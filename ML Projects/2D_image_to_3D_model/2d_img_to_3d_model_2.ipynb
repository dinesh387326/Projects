{
  "nbformat": 4,
  "nbformat_minor": 0,
  "metadata": {
    "colab": {
      "provenance": [],
      "gpuType": "T4"
    },
    "kernelspec": {
      "name": "python3",
      "display_name": "Python 3"
    },
    "language_info": {
      "name": "python"
    },
    "accelerator": "GPU"
  },
  "cells": [
    {
      "cell_type": "markdown",
      "source": [
        "Change runtime type to T4 GPU"
      ],
      "metadata": {
        "id": "4on3m6kbiGFZ"
      }
    },
    {
      "cell_type": "markdown",
      "source": [
        "**Make 3d models from images using Photogammetry **\n",
        "\n",
        "Note: take images of single stationary object from multiple angles at least 60 to 100 for better results then upload those images in gdrive in a folder of your choice\n",
        "\n",
        "After uploading images mount grive using 4th cell and run last 2 cells (6th and 7th)"
      ],
      "metadata": {
        "id": "FfljP42Xlsbe"
      }
    },
    {
      "cell_type": "markdown",
      "source": [
        "**CELL 1**"
      ],
      "metadata": {
        "id": "Sgfm1eo1oMQa"
      }
    },
    {
      "cell_type": "code",
      "execution_count": null,
      "metadata": {
        "id": "4S-uBtwElVKX",
        "collapsed": true
      },
      "outputs": [],
      "source": [
        "pip install ffmpeg-python"
      ]
    },
    {
      "cell_type": "markdown",
      "source": [
        "**CELL 2**\n",
        "\n",
        "Upload files MP4/IMGs, for images directly upload them to gdrive or upload here and copy them to gdrive using shutil (Run Cell 5 after mounting), for videos upload here then run cell for video file and copy frames folder to gdrive using shutil"
      ],
      "metadata": {
        "id": "HPFhijPngXAG"
      }
    },
    {
      "cell_type": "code",
      "source": [
        "from google.colab import files\n",
        "uploaded = files.upload()"
      ],
      "metadata": {
        "id": "ZextKjsFmGr2",
        "collapsed": true
      },
      "execution_count": null,
      "outputs": []
    },
    {
      "cell_type": "markdown",
      "source": [
        "**CELL 3**\n",
        "\n",
        "**RUN BELOW CELL ONLY FOR VIDEO FILE**\n",
        "\n",
        "Note : provide file name in extract_frames befor running\n",
        "\n",
        "use 1 min videos of stationary object from every angle for better results\n",
        "\n",
        "make longer and slower videos for better results"
      ],
      "metadata": {
        "id": "KwQiTFLcpWh3"
      }
    },
    {
      "cell_type": "code",
      "source": [
        "import ffmpeg\n",
        "import os\n",
        "\n",
        "def extract_frames(input_video, output_pattern, fps=1):\n",
        "    os.makedirs('frames', exist_ok=True)\n",
        "    (\n",
        "        ffmpeg\n",
        "        .input(input_video)\n",
        "        .filter('fps', fps=fps)\n",
        "        .output(output_pattern)\n",
        "        .run()\n",
        "    )\n",
        "\n",
        "extract_frames('file_name.mp4', 'frames/frame_%03d.png', fps=1)\n"
      ],
      "metadata": {
        "id": "Q7X5a9GDlkdD"
      },
      "execution_count": null,
      "outputs": []
    },
    {
      "cell_type": "markdown",
      "source": [
        "**CELL 4**\n",
        "\n",
        "Mount your gdrive for uploading files to gdrive and gdrive access"
      ],
      "metadata": {
        "id": "3T-Ge0mmlCj0"
      }
    },
    {
      "cell_type": "code",
      "source": [
        "from google.colab import drive\n",
        "drive.mount('/content/drive')"
      ],
      "metadata": {
        "colab": {
          "base_uri": "https://localhost:8080/"
        },
        "id": "mXIizfftsyRA",
        "outputId": "848cdfdc-6521-4f55-9ca3-83e7dc2a20fb"
      },
      "execution_count": null,
      "outputs": [
        {
          "output_type": "stream",
          "name": "stdout",
          "text": [
            "Mounted at /content/drive\n"
          ]
        }
      ]
    },
    {
      "cell_type": "markdown",
      "source": [
        "**CELL 5**\n",
        "\n",
        "Upload files (frames or folder of images) to gdrive\n",
        "\n",
        "Note: Must run this for video files, if you have already uploaded images in gdrive skip this step"
      ],
      "metadata": {
        "id": "dOO-9G7UlTAq"
      }
    },
    {
      "cell_type": "code",
      "source": [
        "import shutil\n",
        "\n",
        "# Example: copy 'my_folder' to your Drive\n",
        "shutil.copytree('/content/frames', '/content/drive/MyDrive/frames')\n"
      ],
      "metadata": {
        "colab": {
          "base_uri": "https://localhost:8080/",
          "height": 35
        },
        "id": "eOTvTtWktFE2",
        "outputId": "2b68cf14-75cd-47d2-e8aa-af8836184c82"
      },
      "execution_count": null,
      "outputs": [
        {
          "output_type": "execute_result",
          "data": {
            "text/plain": [
              "'/content/drive/MyDrive/frames'"
            ],
            "application/vnd.google.colaboratory.intrinsic+json": {
              "type": "string"
            }
          },
          "metadata": {},
          "execution_count": 5
        }
      ]
    },
    {
      "cell_type": "markdown",
      "source": [
        "**CELL 6**"
      ],
      "metadata": {
        "id": "TyPDC2tGpTep"
      }
    },
    {
      "cell_type": "code",
      "source": [
        "#download meshroom\n",
        "!wget -N https://github.com/alicevision/meshroom/releases/download/v2019.1.0/Meshroom-2019.1.0-linux.tar.gz\n",
        "!mkdir meshroom\n",
        "!tar xzf Meshroom-2019.1.0-linux.tar.gz -C ./meshroom"
      ],
      "metadata": {
        "id": "wmw-IwSZxleg"
      },
      "execution_count": null,
      "outputs": []
    },
    {
      "cell_type": "markdown",
      "source": [
        "**CELL 7**\n",
        "\n",
        "Note: Provide input path (folder containing images) and ouptut path of gdrive before running"
      ],
      "metadata": {
        "id": "N-cyJXTtpi_2"
      }
    },
    {
      "cell_type": "code",
      "source": [
        "#process the images to 3d model\n",
        "!./meshroom/Meshroom-2019.1.0/meshroom_photogrammetry --input '/content/drive/MyDrive/pot' --output '/content/drive/MyDrive/pot_3d'"
      ],
      "metadata": {
        "id": "ruK5sTq5xmr3"
      },
      "execution_count": null,
      "outputs": []
    }
  ]
}