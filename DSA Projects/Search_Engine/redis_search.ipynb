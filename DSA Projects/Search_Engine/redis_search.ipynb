{
  "nbformat": 4,
  "nbformat_minor": 0,
  "metadata": {
    "colab": {
      "provenance": []
    },
    "kernelspec": {
      "name": "python3",
      "display_name": "Python 3"
    },
    "language_info": {
      "name": "python"
    }
  },
  "cells": [
    {
      "cell_type": "code",
      "source": [
        "# Install Redis Python client\n",
        "!pip install redis"
      ],
      "metadata": {
        "colab": {
          "base_uri": "https://localhost:8080/"
        },
        "id": "2NQCO6QDDTMK",
        "outputId": "d08f97d1-a00d-43a0-98f2-88a14ce1fbea"
      },
      "execution_count": null,
      "outputs": [
        {
          "output_type": "stream",
          "name": "stdout",
          "text": [
            "Requirement already satisfied: redis in /usr/local/lib/python3.12/dist-packages (6.4.0)\n"
          ]
        }
      ]
    },
    {
      "cell_type": "code",
      "execution_count": null,
      "metadata": {
        "colab": {
          "base_uri": "https://localhost:8080/"
        },
        "id": "NK3nRULaDJpv",
        "outputId": "541a36bf-f141-408c-c1b4-a34f645b384b"
      },
      "outputs": [
        {
          "output_type": "stream",
          "name": "stdout",
          "text": [
            "Results: [('1', 0.5), ('2', 0.0)]\n",
            "Total documents: 2\n"
          ]
        }
      ],
      "source": [
        "import collections\n",
        "import math\n",
        "import os\n",
        "import re\n",
        "import unittest\n",
        "import redis\n",
        "\n",
        "NON_WORDS = re.compile(\"[^a-z0-9' ]\")\n",
        "\n",
        "STOP_WORDS = set('''a able about across after all almost also am among\n",
        "an and any are as at be because been but by can cannot could dear did\n",
        "do does either else ever every for from get got had has have he her\n",
        "hers him his how however i if in into is it its just least let like\n",
        "likely may me might most must my neither no nor not of off often on\n",
        "only or other our own rather said say says she should since so some\n",
        "than that the their them then there these they this tis to too twas us\n",
        "wants was we were what when where which while who whom why will with\n",
        "would yet you your'''.split())\n",
        "\n",
        "class ScoredIndexSearch(object):\n",
        "    def __init__(self, prefix, host='localhost', port=6379, password=None):\n",
        "        # Prefix for all index keys\n",
        "        self.prefix = prefix.lower().rstrip(':') + ':'\n",
        "        # Connect to Redis server\n",
        "        self.connection = redis.Redis(\n",
        "            host=host,\n",
        "            port=port,\n",
        "            password=password,\n",
        "            decode_responses=True  # ensures strings instead of bytes\n",
        "        )\n",
        "\n",
        "    @staticmethod\n",
        "    def get_index_keys(content, add=True):\n",
        "        words = NON_WORDS.sub(' ', content.lower()).split()\n",
        "        words = [word.strip(\"'\") for word in words]\n",
        "        words = [word for word in words if word not in STOP_WORDS and len(word) > 1]\n",
        "\n",
        "        if not add:\n",
        "            return words\n",
        "\n",
        "        counts = collections.defaultdict(float)\n",
        "        for word in words:\n",
        "            counts[word] += 1\n",
        "        wordcount = len(words)\n",
        "        tf = {word: count / wordcount for word, count in counts.items()}\n",
        "        return tf\n",
        "\n",
        "    def _handle_content(self, id, content, add=True):\n",
        "        keys = self.get_index_keys(content)\n",
        "        prefix = self.prefix\n",
        "        pipe = self.connection.pipeline(False)  # non-transactional pipeline\n",
        "\n",
        "        if add:\n",
        "            pipe.sadd(prefix + 'indexed:', id)\n",
        "            for key, value in keys.items():\n",
        "                pipe.zadd(prefix + key, {id: value})\n",
        "        else:\n",
        "            pipe.srem(prefix + 'indexed:', id)\n",
        "            for key in keys:\n",
        "                pipe.zrem(prefix + key, id)\n",
        "\n",
        "        pipe.execute()\n",
        "        return len(keys)\n",
        "\n",
        "    def add_indexed_item(self, id, content):\n",
        "        return self._handle_content(id, content, add=True)\n",
        "\n",
        "    def remove_indexed_item(self, id, content):\n",
        "        return self._handle_content(id, content, add=False)\n",
        "\n",
        "    def search(self, query_string, offset=0, count=10):\n",
        "        keys = [self.prefix + key for key in self.get_index_keys(query_string, False)]\n",
        "        if not keys:\n",
        "            return [], 0\n",
        "\n",
        "        total_docs = max(self.connection.scard(self.prefix + 'indexed:'), 1)\n",
        "\n",
        "        # Get document frequencies\n",
        "        pipe = self.connection.pipeline(False)\n",
        "        for key in keys:\n",
        "            pipe.zcard(key)\n",
        "        sizes = pipe.execute()\n",
        "\n",
        "        # Compute IDF\n",
        "        def idf(count):\n",
        "            return max(math.log(total_docs / count, 2), 0) if count else 0\n",
        "        idfs = list(map(idf, sizes))\n",
        "\n",
        "        weights = {key: idfv for key, size, idfv in zip(keys, sizes, idfs) if size}\n",
        "        if not weights:\n",
        "            return [], 0\n",
        "\n",
        "        temp_key = self.prefix + 'temp:' + os.urandom(8).hex()\n",
        "        try:\n",
        "            known = self.connection.zunionstore(temp_key, weights)\n",
        "            ids = self.connection.zrevrange(temp_key, offset, offset + count - 1, withscores=True)\n",
        "        finally:\n",
        "            self.connection.delete(temp_key)\n",
        "        return ids, known\n",
        "\n",
        "\n",
        "# ------------------------------\n",
        "# Example Usage\n",
        "# ------------------------------\n",
        "\n",
        "# Replace with your Redis server details\n",
        "\n",
        "host='redis-17409.c330.asia-south1-1.gce.redns.redis-cloud.com'\n",
        "port=17409\n",
        "password=\"S5cnQnrw3bSN5kawPisZpiSoJlr0B6Fg\"\n",
        "\n",
        "search_index = ScoredIndexSearch('myindex', host=host, port=port, password=password)\n",
        "\n",
        "# Adding items to index\n",
        "search_index.add_indexed_item(1, 'hello world')\n",
        "search_index.add_indexed_item(2, 'this world is nice and you are really special')\n",
        "\n",
        "# Searching\n",
        "results, total = search_index.search('hello world')\n",
        "print(\"Results:\", results)\n",
        "print(\"Total documents:\", total)"
      ]
    }
  ]
}